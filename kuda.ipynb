{
 "cells": [
  {
   "cell_type": "code",
   "execution_count": 1,
   "metadata": {},
   "outputs": [
    {
     "name": "stderr",
     "output_type": "stream",
     "text": [
      "C:\\Users\\HP\\Anaconda3\\lib\\site-packages\\sklearn\\externals\\joblib\\__init__.py:15: DeprecationWarning: sklearn.externals.joblib is deprecated in 0.21 and will be removed in 0.23. Please import this functionality directly from joblib, which can be installed with: pip install joblib. If this warning is raised when loading pickled models, you may need to re-serialize those models with scikit-learn 0.21+.\n",
      "  warnings.warn(msg, category=DeprecationWarning)\n"
     ]
    }
   ],
   "source": [
    "import pickle\n",
    "import numpy as np\n",
    "import pandas as pd\n",
    "from sklearn.externals import joblib\n",
    "from sklearn import svm\n",
    "from sklearn.naive_bayes import GaussianNB\n",
    "from sklearn.model_selection import train_test_split \n",
    "from sklearn.model_selection import cross_validate\n",
    "from sklearn.metrics import precision_recall_fscore_support\n",
    "from sklearn.metrics import accuracy_score\n",
    "from sklearn import metrics\n",
    "from sklearn.metrics import recall_score\n",
    "from sklearn.metrics import precision_score\n",
    "from sklearn.metrics import f1_score\n",
    "from sklearn.metrics import confusion_matrix"
   ]
  },
  {
   "cell_type": "code",
   "execution_count": 2,
   "metadata": {},
   "outputs": [],
   "source": [
    "#Read CSV, index+1 supaya index dimulai dari 1, tidak 0, memudahkan pembacaan dataframe dibawah.\n",
    "colomn = [\"Clump_Thickness\",\"Uniformity_of_Cell_Size\",\"Uniformity_of_Cell_Shape\",\"Marginal_Adhesion\",\"Single_Epithelial_Cell_Size\",\"Bare_Nuclei\",\"Bland_Chromatin\",\"Normal_Nucleoli\",\"Mitoses\",\"Class\",\"Klasifikasi\"]\n",
    "df = pd.read_csv('coba.csv', names = colomn, delimiter=';')\n",
    "df.index += 1"
   ]
  },
  {
   "cell_type": "code",
   "execution_count": 20,
   "metadata": {},
   "outputs": [
    {
     "data": {
      "text/html": [
       "<div>\n",
       "<style scoped>\n",
       "    .dataframe tbody tr th:only-of-type {\n",
       "        vertical-align: middle;\n",
       "    }\n",
       "\n",
       "    .dataframe tbody tr th {\n",
       "        vertical-align: top;\n",
       "    }\n",
       "\n",
       "    .dataframe thead th {\n",
       "        text-align: right;\n",
       "    }\n",
       "</style>\n",
       "<table border=\"1\" class=\"dataframe\">\n",
       "  <thead>\n",
       "    <tr style=\"text-align: right;\">\n",
       "      <th></th>\n",
       "      <th>Clump_Thickness</th>\n",
       "      <th>Uniformity_of_Cell_Size</th>\n",
       "      <th>Uniformity_of_Cell_Shape</th>\n",
       "      <th>Marginal_Adhesion</th>\n",
       "      <th>Single_Epithelial_Cell_Size</th>\n",
       "      <th>Bare_Nuclei</th>\n",
       "      <th>Bland_Chromatin</th>\n",
       "      <th>Normal_Nucleoli</th>\n",
       "      <th>Mitoses</th>\n",
       "      <th>Class</th>\n",
       "      <th>Klasifikasi</th>\n",
       "    </tr>\n",
       "  </thead>\n",
       "  <tbody>\n",
       "    <tr>\n",
       "      <td>1</td>\n",
       "      <td>5</td>\n",
       "      <td>1</td>\n",
       "      <td>1</td>\n",
       "      <td>1</td>\n",
       "      <td>2</td>\n",
       "      <td>1</td>\n",
       "      <td>3</td>\n",
       "      <td>1</td>\n",
       "      <td>1</td>\n",
       "      <td>2</td>\n",
       "      <td>0</td>\n",
       "    </tr>\n",
       "    <tr>\n",
       "      <td>2</td>\n",
       "      <td>5</td>\n",
       "      <td>4</td>\n",
       "      <td>4</td>\n",
       "      <td>5</td>\n",
       "      <td>7</td>\n",
       "      <td>10</td>\n",
       "      <td>3</td>\n",
       "      <td>2</td>\n",
       "      <td>1</td>\n",
       "      <td>2</td>\n",
       "      <td>0</td>\n",
       "    </tr>\n",
       "    <tr>\n",
       "      <td>3</td>\n",
       "      <td>3</td>\n",
       "      <td>1</td>\n",
       "      <td>1</td>\n",
       "      <td>1</td>\n",
       "      <td>2</td>\n",
       "      <td>2</td>\n",
       "      <td>3</td>\n",
       "      <td>1</td>\n",
       "      <td>1</td>\n",
       "      <td>2</td>\n",
       "      <td>0</td>\n",
       "    </tr>\n",
       "    <tr>\n",
       "      <td>4</td>\n",
       "      <td>6</td>\n",
       "      <td>8</td>\n",
       "      <td>8</td>\n",
       "      <td>1</td>\n",
       "      <td>3</td>\n",
       "      <td>4</td>\n",
       "      <td>3</td>\n",
       "      <td>7</td>\n",
       "      <td>1</td>\n",
       "      <td>2</td>\n",
       "      <td>0</td>\n",
       "    </tr>\n",
       "    <tr>\n",
       "      <td>5</td>\n",
       "      <td>4</td>\n",
       "      <td>1</td>\n",
       "      <td>1</td>\n",
       "      <td>3</td>\n",
       "      <td>2</td>\n",
       "      <td>1</td>\n",
       "      <td>3</td>\n",
       "      <td>1</td>\n",
       "      <td>1</td>\n",
       "      <td>2</td>\n",
       "      <td>0</td>\n",
       "    </tr>\n",
       "  </tbody>\n",
       "</table>\n",
       "</div>"
      ],
      "text/plain": [
       "   Clump_Thickness  Uniformity_of_Cell_Size  Uniformity_of_Cell_Shape  \\\n",
       "1                5                        1                         1   \n",
       "2                5                        4                         4   \n",
       "3                3                        1                         1   \n",
       "4                6                        8                         8   \n",
       "5                4                        1                         1   \n",
       "\n",
       "   Marginal_Adhesion  Single_Epithelial_Cell_Size Bare_Nuclei  \\\n",
       "1                  1                            2           1   \n",
       "2                  5                            7          10   \n",
       "3                  1                            2           2   \n",
       "4                  1                            3           4   \n",
       "5                  3                            2           1   \n",
       "\n",
       "   Bland_Chromatin  Normal_Nucleoli  Mitoses  Class  Klasifikasi  \n",
       "1                3                1        1      2            0  \n",
       "2                3                2        1      2            0  \n",
       "3                3                1        1      2            0  \n",
       "4                3                7        1      2            0  \n",
       "5                3                1        1      2            0  "
      ]
     },
     "execution_count": 20,
     "metadata": {},
     "output_type": "execute_result"
    }
   ],
   "source": [
    "#melihat dataframe diabetes.csv\n",
    "df.head()"
   ]
  },
  {
   "cell_type": "code",
   "execution_count": 21,
   "metadata": {},
   "outputs": [
    {
     "data": {
      "text/plain": [
       "Clump_Thickness                 int64\n",
       "Uniformity_of_Cell_Size         int64\n",
       "Uniformity_of_Cell_Shape        int64\n",
       "Marginal_Adhesion               int64\n",
       "Single_Epithelial_Cell_Size     int64\n",
       "Bare_Nuclei                    object\n",
       "Bland_Chromatin                 int64\n",
       "Normal_Nucleoli                 int64\n",
       "Mitoses                         int64\n",
       "Class                           int64\n",
       "Klasifikasi                     int64\n",
       "dtype: object"
      ]
     },
     "execution_count": 21,
     "metadata": {},
     "output_type": "execute_result"
    }
   ],
   "source": [
    "df.dtypes"
   ]
  },
  {
   "cell_type": "code",
   "execution_count": 22,
   "metadata": {},
   "outputs": [],
   "source": [
    "#Pre-Processing\n",
    "data = pd.DataFrame(data=df)\n",
    "data = data[data.Bare_Nuclei != \"?\"]\n",
    "data = data.apply(pd.to_numeric)"
   ]
  },
  {
   "cell_type": "code",
   "execution_count": 24,
   "metadata": {},
   "outputs": [
    {
     "data": {
      "text/plain": [
       "Clump_Thickness                int64\n",
       "Uniformity_of_Cell_Size        int64\n",
       "Uniformity_of_Cell_Shape       int64\n",
       "Marginal_Adhesion              int64\n",
       "Single_Epithelial_Cell_Size    int64\n",
       "Bare_Nuclei                    int64\n",
       "Bland_Chromatin                int64\n",
       "Normal_Nucleoli                int64\n",
       "Mitoses                        int64\n",
       "Class                          int64\n",
       "Klasifikasi                    int64\n",
       "dtype: object"
      ]
     },
     "execution_count": 24,
     "metadata": {},
     "output_type": "execute_result"
    }
   ],
   "source": [
    "data.dtypes"
   ]
  },
  {
   "cell_type": "code",
   "execution_count": 5,
   "metadata": {},
   "outputs": [],
   "source": [
    "#penentuan atribut\n",
    "np_target = data['Klasifikasi'].values\n",
    "np_data = data.iloc[:,:-2].values"
   ]
  },
  {
   "cell_type": "code",
   "execution_count": 6,
   "metadata": {},
   "outputs": [],
   "source": [
    "#Split dataset, 30% testing 70% training.\n",
    "X_train, X_test, y_train, y_test = train_test_split(np_data,np_target,test_size=0.3, random_state=None)"
   ]
  },
  {
   "cell_type": "code",
   "execution_count": 7,
   "metadata": {},
   "outputs": [],
   "source": [
    "#Naive Bayes (Gaussian)\n",
    "clf = GaussianNB().fit(X_train, y_train)"
   ]
  },
  {
   "cell_type": "code",
   "execution_count": 8,
   "metadata": {},
   "outputs": [
    {
     "data": {
      "text/plain": [
       "array([[ 5,  3,  5, ...,  5,  3,  1],\n",
       "       [ 1,  1,  1, ...,  3,  1,  1],\n",
       "       [ 5,  1,  1, ...,  3,  2,  1],\n",
       "       ...,\n",
       "       [10,  4,  5, ...,  4,  1,  1],\n",
       "       [ 2,  1,  1, ...,  3,  1,  1],\n",
       "       [ 2,  1,  1, ...,  2,  1,  1]], dtype=int64)"
      ]
     },
     "execution_count": 8,
     "metadata": {},
     "output_type": "execute_result"
    }
   ],
   "source": [
    "X_train"
   ]
  },
  {
   "cell_type": "code",
   "execution_count": 9,
   "metadata": {},
   "outputs": [
    {
     "data": {
      "text/plain": [
       "(478, 205)"
      ]
     },
     "execution_count": 9,
     "metadata": {},
     "output_type": "execute_result"
    }
   ],
   "source": [
    "#Cuma buat liat ukuran data train vs data test\n",
    "len(X_train), len(X_test)"
   ]
  },
  {
   "cell_type": "code",
   "execution_count": 10,
   "metadata": {},
   "outputs": [
    {
     "data": {
      "text/plain": [
       "GaussianNB(priors=None, var_smoothing=1e-09)"
      ]
     },
     "execution_count": 10,
     "metadata": {},
     "output_type": "execute_result"
    }
   ],
   "source": [
    "#Fit model naive bayes sesuai data training (proses training model)\n",
    "clf.fit(X_train, y_train)"
   ]
  },
  {
   "cell_type": "code",
   "execution_count": 11,
   "metadata": {},
   "outputs": [],
   "source": [
    "#CrossValidation model yang sudah dibangun. Dengan parameter scoring=accuracy,precision, dan recall\n",
    "scoring = ['accuracy', 'precision', 'recall']\n",
    "scores = cross_validate(clf, X_test, y_test, scoring=scoring, cv=10, return_train_score=True)"
   ]
  },
  {
   "cell_type": "code",
   "execution_count": 12,
   "metadata": {},
   "outputs": [
    {
     "data": {
      "text/plain": [
       "{'fit_time': array([0.00553226, 0.00300217, 0.00400376, 0.00299978, 0.00500321,\n",
       "        0.03453517, 0.00500393, 0.01400137, 0.00300503, 0.00200057]),\n",
       " 'score_time': array([0.02600479, 0.01099753, 0.01099944, 0.0140028 , 0.01455498,\n",
       "        0.06301475, 0.01804638, 0.01600242, 0.01900387, 0.02100348]),\n",
       " 'test_accuracy': array([0.95238095, 0.85714286, 0.95238095, 0.95238095, 1.        ,\n",
       "        1.        , 0.9       , 0.95      , 1.        , 1.        ]),\n",
       " 'train_accuracy': array([0.96195652, 0.97282609, 0.96195652, 0.96195652, 0.95652174,\n",
       "        0.95675676, 0.96756757, 0.95675676, 0.95675676, 0.95675676]),\n",
       " 'test_precision': array([1.        , 0.7       , 0.875     , 0.875     , 1.        ,\n",
       "        1.        , 0.85714286, 0.875     , 1.        , 1.        ]),\n",
       " 'train_precision': array([0.91176471, 0.93939394, 0.92424242, 0.91176471, 0.91044776,\n",
       "        0.91044776, 0.92537313, 0.91044776, 0.91044776, 0.91044776]),\n",
       " 'test_recall': array([0.85714286, 1.        , 1.        , 1.        , 1.        ,\n",
       "        1.        , 0.85714286, 1.        , 1.        , 1.        ]),\n",
       " 'train_recall': array([0.98412698, 0.98412698, 0.96825397, 0.98412698, 0.96825397,\n",
       "        0.96825397, 0.98412698, 0.96825397, 0.96825397, 0.96825397])}"
      ]
     },
     "execution_count": 12,
     "metadata": {},
     "output_type": "execute_result"
    }
   ],
   "source": [
    "#Menampilkan hasil dari cross validation\n",
    "scores"
   ]
  },
  {
   "cell_type": "code",
   "execution_count": 13,
   "metadata": {},
   "outputs": [
    {
     "data": {
      "text/plain": [
       "array([0.95238095, 0.85714286, 0.95238095, 0.95238095, 1.        ,\n",
       "       1.        , 0.9       , 0.95      , 1.        , 1.        ])"
      ]
     },
     "execution_count": 13,
     "metadata": {},
     "output_type": "execute_result"
    }
   ],
   "source": [
    "#menampilkan test_accuracy dari cross validation, memiliki 10 value, tiap value adalah representasi akurasi dari tiap iterasi\n",
    "scores['test_accuracy']"
   ]
  },
  {
   "cell_type": "code",
   "execution_count": 14,
   "metadata": {},
   "outputs": [
    {
     "data": {
      "text/html": [
       "<div>\n",
       "<style scoped>\n",
       "    .dataframe tbody tr th:only-of-type {\n",
       "        vertical-align: middle;\n",
       "    }\n",
       "\n",
       "    .dataframe tbody tr th {\n",
       "        vertical-align: top;\n",
       "    }\n",
       "\n",
       "    .dataframe thead th {\n",
       "        text-align: right;\n",
       "    }\n",
       "</style>\n",
       "<table border=\"1\" class=\"dataframe\">\n",
       "  <thead>\n",
       "    <tr style=\"text-align: right;\">\n",
       "      <th></th>\n",
       "      <th>fit_time</th>\n",
       "      <th>score_time</th>\n",
       "      <th>test_accuracy</th>\n",
       "      <th>train_accuracy</th>\n",
       "      <th>test_precision</th>\n",
       "      <th>train_precision</th>\n",
       "      <th>test_recall</th>\n",
       "      <th>train_recall</th>\n",
       "    </tr>\n",
       "  </thead>\n",
       "  <tbody>\n",
       "    <tr>\n",
       "      <td>1</td>\n",
       "      <td>0.005532</td>\n",
       "      <td>0.026005</td>\n",
       "      <td>0.952381</td>\n",
       "      <td>0.961957</td>\n",
       "      <td>1.000000</td>\n",
       "      <td>0.911765</td>\n",
       "      <td>0.857143</td>\n",
       "      <td>0.984127</td>\n",
       "    </tr>\n",
       "    <tr>\n",
       "      <td>2</td>\n",
       "      <td>0.003002</td>\n",
       "      <td>0.010998</td>\n",
       "      <td>0.857143</td>\n",
       "      <td>0.972826</td>\n",
       "      <td>0.700000</td>\n",
       "      <td>0.939394</td>\n",
       "      <td>1.000000</td>\n",
       "      <td>0.984127</td>\n",
       "    </tr>\n",
       "    <tr>\n",
       "      <td>3</td>\n",
       "      <td>0.004004</td>\n",
       "      <td>0.010999</td>\n",
       "      <td>0.952381</td>\n",
       "      <td>0.961957</td>\n",
       "      <td>0.875000</td>\n",
       "      <td>0.924242</td>\n",
       "      <td>1.000000</td>\n",
       "      <td>0.968254</td>\n",
       "    </tr>\n",
       "    <tr>\n",
       "      <td>4</td>\n",
       "      <td>0.003000</td>\n",
       "      <td>0.014003</td>\n",
       "      <td>0.952381</td>\n",
       "      <td>0.961957</td>\n",
       "      <td>0.875000</td>\n",
       "      <td>0.911765</td>\n",
       "      <td>1.000000</td>\n",
       "      <td>0.984127</td>\n",
       "    </tr>\n",
       "    <tr>\n",
       "      <td>5</td>\n",
       "      <td>0.005003</td>\n",
       "      <td>0.014555</td>\n",
       "      <td>1.000000</td>\n",
       "      <td>0.956522</td>\n",
       "      <td>1.000000</td>\n",
       "      <td>0.910448</td>\n",
       "      <td>1.000000</td>\n",
       "      <td>0.968254</td>\n",
       "    </tr>\n",
       "    <tr>\n",
       "      <td>6</td>\n",
       "      <td>0.034535</td>\n",
       "      <td>0.063015</td>\n",
       "      <td>1.000000</td>\n",
       "      <td>0.956757</td>\n",
       "      <td>1.000000</td>\n",
       "      <td>0.910448</td>\n",
       "      <td>1.000000</td>\n",
       "      <td>0.968254</td>\n",
       "    </tr>\n",
       "    <tr>\n",
       "      <td>7</td>\n",
       "      <td>0.005004</td>\n",
       "      <td>0.018046</td>\n",
       "      <td>0.900000</td>\n",
       "      <td>0.967568</td>\n",
       "      <td>0.857143</td>\n",
       "      <td>0.925373</td>\n",
       "      <td>0.857143</td>\n",
       "      <td>0.984127</td>\n",
       "    </tr>\n",
       "    <tr>\n",
       "      <td>8</td>\n",
       "      <td>0.014001</td>\n",
       "      <td>0.016002</td>\n",
       "      <td>0.950000</td>\n",
       "      <td>0.956757</td>\n",
       "      <td>0.875000</td>\n",
       "      <td>0.910448</td>\n",
       "      <td>1.000000</td>\n",
       "      <td>0.968254</td>\n",
       "    </tr>\n",
       "    <tr>\n",
       "      <td>9</td>\n",
       "      <td>0.003005</td>\n",
       "      <td>0.019004</td>\n",
       "      <td>1.000000</td>\n",
       "      <td>0.956757</td>\n",
       "      <td>1.000000</td>\n",
       "      <td>0.910448</td>\n",
       "      <td>1.000000</td>\n",
       "      <td>0.968254</td>\n",
       "    </tr>\n",
       "    <tr>\n",
       "      <td>10</td>\n",
       "      <td>0.002001</td>\n",
       "      <td>0.021003</td>\n",
       "      <td>1.000000</td>\n",
       "      <td>0.956757</td>\n",
       "      <td>1.000000</td>\n",
       "      <td>0.910448</td>\n",
       "      <td>1.000000</td>\n",
       "      <td>0.968254</td>\n",
       "    </tr>\n",
       "  </tbody>\n",
       "</table>\n",
       "</div>"
      ],
      "text/plain": [
       "    fit_time  score_time  test_accuracy  train_accuracy  test_precision  \\\n",
       "1   0.005532    0.026005       0.952381        0.961957        1.000000   \n",
       "2   0.003002    0.010998       0.857143        0.972826        0.700000   \n",
       "3   0.004004    0.010999       0.952381        0.961957        0.875000   \n",
       "4   0.003000    0.014003       0.952381        0.961957        0.875000   \n",
       "5   0.005003    0.014555       1.000000        0.956522        1.000000   \n",
       "6   0.034535    0.063015       1.000000        0.956757        1.000000   \n",
       "7   0.005004    0.018046       0.900000        0.967568        0.857143   \n",
       "8   0.014001    0.016002       0.950000        0.956757        0.875000   \n",
       "9   0.003005    0.019004       1.000000        0.956757        1.000000   \n",
       "10  0.002001    0.021003       1.000000        0.956757        1.000000   \n",
       "\n",
       "    train_precision  test_recall  train_recall  \n",
       "1          0.911765     0.857143      0.984127  \n",
       "2          0.939394     1.000000      0.984127  \n",
       "3          0.924242     1.000000      0.968254  \n",
       "4          0.911765     1.000000      0.984127  \n",
       "5          0.910448     1.000000      0.968254  \n",
       "6          0.910448     1.000000      0.968254  \n",
       "7          0.925373     0.857143      0.984127  \n",
       "8          0.910448     1.000000      0.968254  \n",
       "9          0.910448     1.000000      0.968254  \n",
       "10         0.910448     1.000000      0.968254  "
      ]
     },
     "execution_count": 14,
     "metadata": {},
     "output_type": "execute_result"
    }
   ],
   "source": [
    "#Hasil cross validation berupa dictionary. Kemudian dictionary disimpan menjadi dataframe. Hanya untuk keperluan pembacaan\n",
    "df_scores = pd.DataFrame.from_dict(scores)\n",
    "df_scores.index +=1\n",
    "df_scores"
   ]
  },
  {
   "cell_type": "code",
   "execution_count": 15,
   "metadata": {},
   "outputs": [
    {
     "name": "stdout",
     "output_type": "stream",
     "text": [
      "Accuracy: 0.9609756097560975\n"
     ]
    }
   ],
   "source": [
    "y_pred = clf.predict(X_test)\n",
    "print(\"Accuracy:\",metrics.accuracy_score(y_test, y_pred))"
   ]
  },
  {
   "cell_type": "code",
   "execution_count": 16,
   "metadata": {},
   "outputs": [
    {
     "data": {
      "text/plain": [
       "array([0.99224806, 0.90789474])"
      ]
     },
     "execution_count": 16,
     "metadata": {},
     "output_type": "execute_result"
    }
   ],
   "source": [
    "precision_score(y_test, y_pred, average=None)"
   ]
  },
  {
   "cell_type": "code",
   "execution_count": 17,
   "metadata": {},
   "outputs": [
    {
     "data": {
      "text/plain": [
       "array([0.94814815, 0.98571429])"
      ]
     },
     "execution_count": 17,
     "metadata": {},
     "output_type": "execute_result"
    }
   ],
   "source": [
    "recall_score(y_test, y_pred, average=None)"
   ]
  },
  {
   "cell_type": "code",
   "execution_count": 18,
   "metadata": {},
   "outputs": [],
   "source": [
    "#DUMP MODEL YANG SUDAH DIBUAT AGAR MENJADI MODEL PERSISTENCE DAN LANGSUNG DIGUNAKAN DITEMPAT LAIN.\n",
    "#joblib.dump(clf, 'praktikum1_svc.pkl') "
   ]
  },
  {
   "cell_type": "code",
   "execution_count": 19,
   "metadata": {},
   "outputs": [],
   "source": [
    "#DUMP MODEL!!\n",
    "pickle.dump(clf, open('model.pkl','wb'))"
   ]
  },
  {
   "cell_type": "code",
   "execution_count": null,
   "metadata": {},
   "outputs": [],
   "source": []
  }
 ],
 "metadata": {
  "kernelspec": {
   "display_name": "Python 3",
   "language": "python",
   "name": "python3"
  },
  "language_info": {
   "codemirror_mode": {
    "name": "ipython",
    "version": 3
   },
   "file_extension": ".py",
   "mimetype": "text/x-python",
   "name": "python",
   "nbconvert_exporter": "python",
   "pygments_lexer": "ipython3",
   "version": "3.7.4"
  }
 },
 "nbformat": 4,
 "nbformat_minor": 2
}
